{
 "cells": [
  {
   "cell_type": "code",
   "execution_count": 6,
   "metadata": {},
   "outputs": [],
   "source": [
    "import numpy as np\n",
    "import pickle\n",
    "import matplotlib.pyplot as plt\n",
    "import sys, os\n",
    "sys.path.append(os.pardir)  # 親ディレクトリのファイルをインポートするための設定\n",
    "import numpy as np\n",
    "from dataset.mnist import load_mnist\n",
    "from PIL import Image"
   ]
  },
  {
   "cell_type": "code",
   "execution_count": 28,
   "metadata": {},
   "outputs": [],
   "source": [
    "def step_function(x):\n",
    "    return np.array(x>0, dtype =np.int)\n",
    "    \n",
    "#     y= x>0\n",
    "#     # array([4,5,0])→array([True,True,False])\n",
    "#     # True=1,False=0と変換してくれる\n",
    "#     return y.astype(np.int)\n",
    "    \n",
    "#これだと数値しか計算できん\n",
    "#     if x > 0:\n",
    "#         return 1\n",
    "#     else:\n",
    "#         return 0"
   ]
  },
  {
   "cell_type": "code",
   "execution_count": 42,
   "metadata": {},
   "outputs": [
    {
     "data": {
      "image/png": "[encoded data removed]",
      "text/plain": [
       "<Figure size 432x288 with 1 Axes>"
      ]
     },
     "metadata": {
      "needs_background": "light"
     },
     "output_type": "display_data"
    }
   ],
   "source": [
    "x=np.arange(-5.0,5.0,0.1)\n",
    "y0=step_function(x)\n",
    "plt.plot(x,y0)\n",
    "plt.show()"
   ]
  },
  {
   "cell_type": "code",
   "execution_count": 7,
   "metadata": {},
   "outputs": [],
   "source": [
    "# シグモイド関数　２クラス分類問題で使う\n",
    "def sigmoid(x):\n",
    "    return 1/(1+np.exp(-x))"
   ]
  },
  {
   "cell_type": "code",
   "execution_count": 31,
   "metadata": {},
   "outputs": [
    {
     "data": {
      "text/plain": [
       "array([0.26894142, 0.73105858, 0.88079708])"
      ]
     },
     "execution_count": 31,
     "metadata": {},
     "output_type": "execute_result"
    }
   ],
   "source": [
    "x = np.array([-1.0,1.0,2.0])\n",
    "sigmoid(x)"
   ]
  },
  {
   "cell_type": "code",
   "execution_count": 43,
   "metadata": {},
   "outputs": [
    {
     "data": {
      "image/png": "[encoded data removed]",
      "text/plain": [
       "<Figure size 432x288 with 1 Axes>"
      ]
     },
     "metadata": {
      "needs_background": "light"
     },
     "output_type": "display_data"
    }
   ],
   "source": [
    "y1=sigmoid(x)\n",
    "plt.plot(x,y0,linestyle=\"--\",label=\"step\")\n",
    "plt.plot(x,y1,label=\"sigmoid\")\n",
    "plt.ylim(-0.1,1.1)\n",
    "plt.show()"
   ]
  },
  {
   "cell_type": "code",
   "execution_count": 34,
   "metadata": {},
   "outputs": [],
   "source": [
    "def relu():\n",
    "    return np.maximuma(0,x)"
   ]
  },
  {
   "cell_type": "code",
   "execution_count": 35,
   "metadata": {},
   "outputs": [
    {
     "data": {
      "text/plain": [
       "array([[19, 22],\n",
       "       [43, 50]])"
      ]
     },
     "execution_count": 35,
     "metadata": {},
     "output_type": "execute_result"
    }
   ],
   "source": [
    "A = np.array([[1,2],[3,4]])\n",
    "A.shape\n",
    "\n",
    "B = np.array([[5,6],[7,8]])\n",
    "B.shape\n",
    "\n",
    "np.dot(A,B)"
   ]
  },
  {
   "cell_type": "code",
   "execution_count": 36,
   "metadata": {},
   "outputs": [
    {
     "data": {
      "text/plain": [
       "array([[22, 28],\n",
       "       [49, 64]])"
      ]
     },
     "execution_count": 36,
     "metadata": {},
     "output_type": "execute_result"
    }
   ],
   "source": [
    "A = np.array([[1,2,3],[4,5,6]])\n",
    "A.shape\n",
    "\n",
    "B = np.array([[1,2],[3,4],[5,6]])\n",
    "B.shape#行列の形状\n",
    "\n",
    "np.dot(A,B)"
   ]
  },
  {
   "cell_type": "code",
   "execution_count": 37,
   "metadata": {},
   "outputs": [
    {
     "ename": "ValueError",
     "evalue": "shapes (2,3) and (2,2) not aligned: 3 (dim 1) != 2 (dim 0)",
     "output_type": "error",
     "traceback": [
      "\u001b[1;31m---------------------------------------------------------------------------\u001b[0m",
      "\u001b[1;31mValueError\u001b[0m                                Traceback (most recent call last)",
      "\u001b[1;32m<ipython-input-37-b81118044bd7>\u001b[0m in \u001b[0;36m<module>\u001b[1;34m\u001b[0m\n\u001b[0;32m      2\u001b[0m \u001b[0mC\u001b[0m\u001b[1;33m.\u001b[0m\u001b[0mshape\u001b[0m\u001b[1;33m\u001b[0m\u001b[1;33m\u001b[0m\u001b[0m\n\u001b[0;32m      3\u001b[0m \u001b[1;33m\u001b[0m\u001b[0m\n\u001b[1;32m----> 4\u001b[1;33m \u001b[0mnp\u001b[0m\u001b[1;33m.\u001b[0m\u001b[0mdot\u001b[0m\u001b[1;33m(\u001b[0m\u001b[0mA\u001b[0m\u001b[1;33m,\u001b[0m\u001b[0mC\u001b[0m\u001b[1;33m)\u001b[0m\u001b[1;33m\u001b[0m\u001b[1;33m\u001b[0m\u001b[0m\n\u001b[0m",
      "\u001b[1;32m<__array_function__ internals>\u001b[0m in \u001b[0;36mdot\u001b[1;34m(*args, **kwargs)\u001b[0m\n",
      "\u001b[1;31mValueError\u001b[0m: shapes (2,3) and (2,2) not aligned: 3 (dim 1) != 2 (dim 0)"
     ]
    }
   ],
   "source": [
    "C = np.array([[1,2],[3,4]])\n",
    "C.shape\n",
    "\n",
    "np.dot(A,C)"
   ]
  },
  {
   "cell_type": "code",
   "execution_count": 38,
   "metadata": {},
   "outputs": [
    {
     "data": {
      "text/plain": [
       "array([23, 53, 83])"
      ]
     },
     "execution_count": 38,
     "metadata": {},
     "output_type": "execute_result"
    }
   ],
   "source": [
    "A = np.array([[1,2],[3,4],[5,6]])\n",
    "A.shape\n",
    "\n",
    "B = np.array([7,8])\n",
    "B.shape\n",
    "\n",
    "np.dot(A,B)"
   ]
  },
  {
   "cell_type": "code",
   "execution_count": 39,
   "metadata": {},
   "outputs": [
    {
     "name": "stdout",
     "output_type": "stream",
     "text": [
      "[ 5 11 17]\n"
     ]
    }
   ],
   "source": [
    "x=np.array([1,2])\n",
    "x.shape\n",
    "\n",
    "w= np.array([[1,3,5],[2,4,6]])\n",
    "#print(w)\n",
    "w.shape\n",
    "\n",
    "y = np.dot(x,w)\n",
    "print(y)"
   ]
  },
  {
   "cell_type": "code",
   "execution_count": 60,
   "metadata": {},
   "outputs": [
    {
     "name": "stdout",
     "output_type": "stream",
     "text": [
      "(2,)\n",
      "(2, 3)\n",
      "(3,)\n",
      "[0.3 0.7 1.1]\n",
      "[0.57444252 0.66818777 0.75026011]\n",
      "(3,)\n",
      "(3, 2)\n",
      "(2,)\n",
      "(2,)\n",
      "[0.51615984 1.21402696]\n",
      "[0.62624937 0.7710107 ]\n"
     ]
    }
   ],
   "source": [
    "# 入力層\n",
    "X = np.array([1.0,0.5])\n",
    "#　　重みとバイアス\n",
    "W1 = np.array([[0.1,0.3,0.5],[0.2,0.4,0.6]])\n",
    "B1 = np.array([0.1,0.2,0.3])\n",
    "print(X.shape)\n",
    "print(W1.shape)\n",
    "print(B1.shape)\n",
    "#  第１層目ニューロン\n",
    "# 入力信号の和\n",
    "A1 =np.dot(X,W1)+B1\n",
    "# print(A1.shape)\n",
    "# 出力信号に変換\n",
    "# 活性化関数\n",
    "Z1=sigmoid(A1)\n",
    "print(A1)\n",
    "print(Z1)\n",
    "\n",
    "#　　重みとバイアス\n",
    "W2 = np.array([[0.1,0.4],[0.2,0.5],[0.3,0.6]])\n",
    "B2 = np.array([0.1,0.2])\n",
    "print(Z1.shape)\n",
    "print(W2.shape)\n",
    "print(B2.shape)\n",
    "# 第２層目ニューロン\n",
    "# 入力信号の和\n",
    "A2 = np.dot(Z1,W2)+B2\n",
    "print(A2.shape)\n",
    "# 出力信号に変換\n",
    "# 活性化関数\n",
    "Z2 = sigmoid(A2)\n",
    "print(A2)\n",
    "print(Z2)"
   ]
  },
  {
   "cell_type": "code",
   "execution_count": 61,
   "metadata": {},
   "outputs": [],
   "source": [
    "# 恒等関数　そのままを返す。回帰問題で使う\n",
    "def identity_function(x):\n",
    "    return x"
   ]
  },
  {
   "cell_type": "code",
   "execution_count": 67,
   "metadata": {},
   "outputs": [
    {
     "data": {
      "image/png": "[encoded data removed]",
      "text/plain": [
       "<Figure size 432x288 with 1 Axes>"
      ]
     },
     "metadata": {
      "needs_background": "light"
     },
     "output_type": "display_data"
    }
   ],
   "source": [
    "#　　重みとバイアス\n",
    "W3 = np.array([[0.1,0.3],[0.2,0.4]])\n",
    "B3 = np.array([0.1,0.2])\n",
    "A3 = np.dot(Z2,W3)+B3\n",
    "# 出力層\n",
    "# 活性化関数\n",
    "Y = identity_function(A3)\n",
    "plt.plot(X,A3)\n",
    "plt.plot(x,y0,linestyle=\"--\",label=\"step\")\n",
    "plt.show()"
   ]
  },
  {
   "cell_type": "code",
   "execution_count": 36,
   "metadata": {},
   "outputs": [],
   "source": [
    "# # 重み、バイアスをまとめたもの\n",
    "# def init_network():\n",
    "# #     ディクショナリ型networkに下記を格納\n",
    "#     network = {}\n",
    "# #     重みWで大文字、バイアスは小文字\n",
    "#     network['W1'] = np.array([[0.1,0.3,0.5],[0.2,0.4,0.6]])\n",
    "#     network['b1'] = np.array([0.1,0.2,0.3])\n",
    "#     network['W2'] = np.array([[0.1,0.4],[0.2,0.5],[0.3,0.6]])\n",
    "#     network['b2'] = np.array([0.1,0.2])\n",
    "#     network['W3'] = np.array([[0.1,0.3],[0.2,0.4]])\n",
    "#     network['b3'] = np.array([0.1,0.2])\n",
    "    \n",
    "#     return network"
   ]
  },
  {
   "cell_type": "code",
   "execution_count": 70,
   "metadata": {},
   "outputs": [],
   "source": [
    "# 入力から出力までを一括にする\n",
    "def forward(network , x):\n",
    "    W1,W2,W3 = network['W1'], network['W2'],network['W3']\n",
    "    b1,b2,b3 = network['b1'],network['b2'],network['b3']\n",
    "    \n",
    "    a1 =np.dot(x,W1)+b1\n",
    "    z1=sigmoid(a1)\n",
    "    a2 = np.dot(z1,W2)+b2\n",
    "    z2 = sigmoid(a2)\n",
    "    a3 = np.dot(z2,W3)+b3\n",
    "    y = identity_function(a3)\n",
    "    \n",
    "    return y"
   ]
  },
  {
   "cell_type": "code",
   "execution_count": 71,
   "metadata": {},
   "outputs": [
    {
     "name": "stdout",
     "output_type": "stream",
     "text": [
      "[0.31682708 0.69627909]\n"
     ]
    }
   ],
   "source": [
    "network = init_network()\n",
    "x = np.array([1.0,0.5])\n",
    "y = forward(network,x)\n",
    "print(y)\n",
    "# 出力の変換は\n",
    "# 恒等関数、シグモイド関数、ソフトマックス関数の3パターン"
   ]
  },
  {
   "cell_type": "code",
   "execution_count": 74,
   "metadata": {},
   "outputs": [
    {
     "name": "stdout",
     "output_type": "stream",
     "text": [
      "[ 1.34985881 18.17414537 54.59815003]\n",
      "74.1221542101633\n",
      "[0.01821127 0.24519181 0.73659691]\n"
     ]
    }
   ],
   "source": [
    "a= np.array([0.3,2.9,4.0])\n",
    "\n",
    "# 指数関数\n",
    "exp_a=np.exp(a)\n",
    "print(exp_a)\n",
    "# 指数関数の和\n",
    "sum_exp_a = np.sum(exp_a)\n",
    "print(sum_exp_a)\n",
    "\n",
    "#  ソフトマックス関数\n",
    "y = exp_a / sum_exp_a\n",
    "print(y)"
   ]
  },
  {
   "cell_type": "code",
   "execution_count": null,
   "metadata": {},
   "outputs": [],
   "source": [
    "# #  ソフトマックス関数\n",
    "# def softmax(a):\n",
    "#     # 指数関数\n",
    "#     exp_a=np.exp(a)\n",
    "#     # 指数関数の和\n",
    "#     sum_exp_a = np.sum(exp_a)\n",
    "# #   指数関数　/  指数関数の和\n",
    "#     y = exp_a / sum_exp_a\n",
    "    \n",
    "#     return y\n",
    "# # これだと指数関数だから簡単に桁が大きくなる\n",
    "# # 要改善\n",
    "# # なら最大入力値を上下で乗算\n",
    "# # logとる\n",
    "# # そこから引き算？"
   ]
  },
  {
   "cell_type": "code",
   "execution_count": 77,
   "metadata": {},
   "outputs": [
    {
     "name": "stderr",
     "output_type": "stream",
     "text": [
      "<ipython-input-77-fb94fd5402ab>:4: RuntimeWarning: overflow encountered in exp\n",
      "  np.exp(a) / np.sum(np.exp(a))\n",
      "<ipython-input-77-fb94fd5402ab>:4: RuntimeWarning: invalid value encountered in true_divide\n",
      "  np.exp(a) / np.sum(np.exp(a))\n"
     ]
    },
    {
     "data": {
      "text/plain": [
       "array([9.99954600e-01, 4.53978686e-05, 2.06106005e-09])"
      ]
     },
     "execution_count": 77,
     "metadata": {},
     "output_type": "execute_result"
    }
   ],
   "source": [
    "# 検証\n",
    "a=np.array([1010,1000,990])\n",
    "# ここで大きすぎてエラー\n",
    "np.exp(a) / np.sum(np.exp(a))\n",
    "# 入力の最大値\n",
    "c = np.max(a)\n",
    "# 引き算\n",
    "a-c\n",
    "\n",
    "np.exp(a-c) / np.sum(np.exp(a-c))"
   ]
  },
  {
   "cell_type": "code",
   "execution_count": 9,
   "metadata": {},
   "outputs": [],
   "source": [
    "#  ソフトマックス関数・修正版\n",
    "def softmax(a):\n",
    "#     入力の最大値\n",
    "    c = np.max(a)\n",
    "    # 指数関数(オーバーフロー対策)\n",
    "    exp_a=np.exp(a-c)\n",
    "    # 指数関数の和\n",
    "    sum_exp_a = np.sum(exp_a)\n",
    "#   指数関数　/  指数関数の和\n",
    "    y = exp_a / sum_exp_a\n",
    "    \n",
    "    return y"
   ]
  },
  {
   "cell_type": "code",
   "execution_count": 82,
   "metadata": {},
   "outputs": [
    {
     "name": "stdout",
     "output_type": "stream",
     "text": [
      "[0.01821127 0.24519181 0.73659691]\n"
     ]
    },
    {
     "data": {
      "text/plain": [
       "1.0"
      ]
     },
     "execution_count": 82,
     "metadata": {},
     "output_type": "execute_result"
    }
   ],
   "source": [
    "a = np.array([0.3,2.9,4.0])\n",
    "y = softmax(a)\n",
    "\n",
    "print(y)\n",
    "\n",
    "np.sum(y)\n",
    "# ソフトマックス関数は\n",
    "# ０～１で出力され合計は１になる\n",
    "# 確率で使えるど\n",
    "# 入力→出力の大小が変わらない\n",
    "# 出力の一番多きいものは変わらない\n",
    "# 分類するときはソフトマックスは使わんらしい"
   ]
  },
  {
   "cell_type": "code",
   "execution_count": 13,
   "metadata": {},
   "outputs": [
    {
     "name": "stdout",
     "output_type": "stream",
     "text": [
      "(60000, 784)\n",
      "(60000,)\n",
      "(10000, 784)\n",
      "(10000,)\n"
     ]
    }
   ],
   "source": [
    "# (訓練画像、訓練ラベル),(テスト画像,テストラベル)\n",
    "# normalize:入力画像を0.0～1.0に正規化するか（False:元のピクセルのまま）0から255ピクセルを/255して返すか\n",
    "# flatten:入力画像を平ら(一次元配列)にするか（False:1*28*28の３次元配列）\n",
    "# one_hot_label:正解だけ数値がでてそれ以外は０（False:7,2とかそのまま出てくる）\n",
    "(x_train,t_train),(x_test,t_test) = load_mnist(flatten=True,normalize=False)\n",
    "\n",
    "print(x_train.shape)\n",
    "print(t_train.shape)\n",
    "print(x_test.shape)\n",
    "print(t_test.shape)"
   ]
  },
  {
   "cell_type": "code",
   "execution_count": 15,
   "metadata": {},
   "outputs": [],
   "source": [
    "def img_show(img):\n",
    "    pil_img = Image.fromarray(np.uint8(img))\n",
    "    pil_img.show()"
   ]
  },
  {
   "cell_type": "code",
   "execution_count": 24,
   "metadata": {},
   "outputs": [
    {
     "name": "stdout",
     "output_type": "stream",
     "text": [
      "5\n",
      "(784,)\n",
      "(28, 28)\n"
     ]
    }
   ],
   "source": [
    "(x_train, t_train), (x_test, t_test) = load_mnist(flatten=True, normalize=False)\n",
    "\n",
    "# 添字が０だと「5」、１だと「0」\n",
    "img = x_train[0]\n",
    "label = t_train[0]\n",
    "print(label)  \n",
    "\n",
    "print(img.shape)  # (784ピクセル)\n",
    "img = img.reshape(28, 28)  # 形状を元の画像サイズに変形\n",
    "print(img.shape)  # (28, 28)\n",
    "\n",
    "img_show(img)"
   ]
  },
  {
   "cell_type": "code",
   "execution_count": 2,
   "metadata": {},
   "outputs": [],
   "source": [
    "# 機械学習は学習と推論(分類)の２フェーズ\n",
    "# (訓練画像、訓練ラベル),(テスト画像,テストラベル)という形式で読み込んだMNISTデータを返す\n",
    "# MNISTデータ:手書きの数字の画像セットで０から９までの数字が訓練用６００００枚、テスト用１００００枚ある\n",
    "# normalize=Trueで正規化してる→入力データに対して決まった処理をすることを前処理という\n",
    "# ex.平均や標準偏差で０を中心に分布するように移動させる、データの範囲を一定に収める。分布の形状を均一にする(白色化)\n",
    "def get_data():\n",
    "    (x_train, t_train), (x_test, t_test) = load_mnist(normalize=True, flatten=True, one_hot_label=False)\n",
    "    return x_test, t_test"
   ]
  },
  {
   "cell_type": "code",
   "execution_count": 3,
   "metadata": {},
   "outputs": [],
   "source": [
    "# 学習済みの重み、バイアスがはいってるデータsample_weight.pklを読み込み\n",
    "def init_network():\n",
    "    with open(\"sample_weight.pkl\", 'rb') as f:\n",
    "       network = pickle.load(f)\n",
    "    return network"
   ]
  },
  {
   "cell_type": "code",
   "execution_count": 4,
   "metadata": {},
   "outputs": [],
   "source": [
    "#  入力から出力までを一括にする\n",
    "def predict(network, x):\n",
    "    W1, W2, W3 = network['W1'], network['W2'], network['W3']\n",
    "    b1, b2, b3 = network['b1'], network['b2'], network['b3']\n",
    "\n",
    "    a1 = np.dot(x, W1) + b1\n",
    "    z1 = sigmoid(a1)\n",
    "    a2 = np.dot(z1, W2) + b2\n",
    "    z2 = sigmoid(a2)\n",
    "    a3 = np.dot(z2, W3) + b3\n",
    "    y = softmax(a3)\n",
    "\n",
    "    return y"
   ]
  },
  {
   "cell_type": "code",
   "execution_count": 70,
   "metadata": {},
   "outputs": [
    {
     "name": "stdout",
     "output_type": "stream",
     "text": [
      "Accuracy:0.9352\n"
     ]
    }
   ],
   "source": [
    "# 画像取得\n",
    "x , t = get_data()\n",
    "# 重み・バイアスを取得\n",
    "network =  init_network()\n",
    "\n",
    "accuracy_cnt = 0\n",
    "\n",
    "# 1枚ずつpredictで分類されていく\n",
    "for i in range(len(x)):\n",
    "    y = predict(network,x[i])\n",
    "#     確率の最大値(予測した解)を取得\n",
    "    p = np.argmax(y)\n",
    "#     予測した解が正しいか正しければ+1\n",
    "    if p == t[i]:\n",
    "        accuracy_cnt += 1\n",
    "#         正解数/配列の長さ\n",
    "print(\"Accuracy:\" + str(float(accuracy_cnt)/len(x)))"
   ]
  },
  {
   "cell_type": "code",
   "execution_count": 11,
   "metadata": {},
   "outputs": [
    {
     "name": "stdout",
     "output_type": "stream",
     "text": [
      "Accuracy:0.9352\n"
     ]
    }
   ],
   "source": [
    "# 上記でもいいけど１００枚とかまとまった単位(バッチという)で計測がいい\n",
    "# メリットデータ転送が早く済む×→訓練テストに対してコストが最小になるように、\n",
    "# モデルパラメータを少しづつ操作し、モデルを訓練テストに対して適合したパラメータに収束させる方法です。\n",
    "# ここで細切れのデータが必要（勾配降下法というらしい）\n",
    "# 画像取得\n",
    "x , t = get_data()\n",
    "# 重み・バイアスを取得\n",
    "network =  init_network()\n",
    "# バッチの数\n",
    "batch_size = 100\n",
    "accuracy_cnt = 0\n",
    "\n",
    "# 1枚ずつpredictで分類されていく\n",
    "# range(start,end,step)でバッチの単位ごとに実施できる\n",
    "# これはhttps://nisshingeppo.com/ai/gradient-descent/を参考にして\n",
    "for i in range(0,len(x),batch_size):\n",
    "    x_batch = x[i:i+batch_size]\n",
    "    y_batch = predict(network,x_batch)\n",
    "#     確率の最大値(予測した解)を取得\n",
    "#   axisはhttps://deepage.net/features/numpy-axis.html参考に０は↓　１は→で多きいものを出してる　次元ではない\n",
    "    p = np.argmax(y_batch,axis = 1)\n",
    "#     予測した解が正しいか正しければ+1\n",
    "    accuracy_cnt += np.sum(p==t[i:i+batch_size])\n",
    "#         正解数/配列の長さ\n",
    "print(\"Accuracy:\" + str(float(accuracy_cnt)/len(x)))"
   ]
  },
  {
   "cell_type": "code",
   "execution_count": 68,
   "metadata": {},
   "outputs": [
    {
     "data": {
      "text/plain": [
       "(10000, 784)"
      ]
     },
     "execution_count": 68,
     "metadata": {},
     "output_type": "execute_result"
    }
   ],
   "source": [
    "x.shape"
   ]
  },
  {
   "cell_type": "code",
   "execution_count": 66,
   "metadata": {},
   "outputs": [
    {
     "data": {
      "text/plain": [
       "(784,)"
      ]
     },
     "execution_count": 66,
     "metadata": {},
     "output_type": "execute_result"
    }
   ],
   "source": [
    "x[0].shape"
   ]
  },
  {
   "cell_type": "code",
   "execution_count": 56,
   "metadata": {},
   "outputs": [
    {
     "data": {
      "text/plain": [
       "(784, 50)"
      ]
     },
     "execution_count": 56,
     "metadata": {},
     "output_type": "execute_result"
    }
   ],
   "source": [
    "W1, W2, W3 = network['W1'], network['W2'], network['W3']\n",
    "\n",
    "W1.shape"
   ]
  },
  {
   "cell_type": "code",
   "execution_count": 57,
   "metadata": {},
   "outputs": [
    {
     "data": {
      "text/plain": [
       "(50, 100)"
      ]
     },
     "execution_count": 57,
     "metadata": {},
     "output_type": "execute_result"
    }
   ],
   "source": [
    "W2.shape"
   ]
  },
  {
   "cell_type": "code",
   "execution_count": 58,
   "metadata": {},
   "outputs": [
    {
     "data": {
      "text/plain": [
       "(100, 10)"
      ]
     },
     "execution_count": 58,
     "metadata": {},
     "output_type": "execute_result"
    }
   ],
   "source": [
    "W3.shape"
   ]
  },
  {
   "cell_type": "code",
   "execution_count": 25,
   "metadata": {},
   "outputs": [
    {
     "name": "stdout",
     "output_type": "stream",
     "text": [
      "[3 0 1]\n"
     ]
    }
   ],
   "source": [
    "# \n",
    "# 　↓ [0.1,0.8,0.1]\n",
    "# 　で [0.3,0.1,0.6]\n",
    "# 　最[0.2,0.5,0.3]\n",
    "# 　大[0.8,0.1,0.1]\n",
    "x = np.array([[0.1,0.8,0.1],[0.3,0.1,0.6],[0.2,0.5,0.3],[0.8,0.1,0.1]])\n",
    "y= np.argmax(x,axis=0)\n",
    "print(y)"
   ]
  },
  {
   "cell_type": "code",
   "execution_count": 30,
   "metadata": {},
   "outputs": [
    {
     "name": "stdout",
     "output_type": "stream",
     "text": [
      "[1 2 1 0]\n"
     ]
    }
   ],
   "source": [
    "# →で最大\n",
    "# [0.1,0.8,0.1]\n",
    "# [0.3,0.1,0.6]\n",
    "# [0.2,0.5,0.3]\n",
    "# [0.8,0.1,0.1]\n",
    "x = np.array([[0.1,0.8,0.1],[0.3,0.1,0.6],[0.2,0.5,0.3],[0.8,0.1,0.1]])\n",
    "x.shape\n",
    "y= np.argmax(x,axis=1)\n",
    "print(y)"
   ]
  },
  {
   "cell_type": "code",
   "execution_count": null,
   "metadata": {},
   "outputs": [],
   "source": []
  }
 ],
 "metadata": {
  "kernelspec": {
   "display_name": "Python 3",
   "language": "python",
   "name": "python3"
  },
  "language_info": {
   "codemirror_mode": {
    "name": "ipython",
    "version": 3
   },
   "file_extension": ".py",
   "mimetype": "text/x-python",
   "name": "python",
   "nbconvert_exporter": "python",
   "pygments_lexer": "ipython3",
   "version": "3.8.5"
  }
 },
 "nbformat": 4,
 "nbformat_minor": 4
}
