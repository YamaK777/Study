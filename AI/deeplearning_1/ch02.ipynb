{
 "cells": [
  {
   "cell_type": "code",
   "execution_count": 42,
   "metadata": {},
   "outputs": [],
   "source": [
    "import numpy as np"
   ]
  },
  {
   "cell_type": "code",
   "execution_count": 45,
   "metadata": {},
   "outputs": [],
   "source": [
    "def AND(x1,x2):\n",
    "    x=np.array([x1,x2])\n",
    "    w=np.array([0.5,0.5])\n",
    "    b=-0.7\n",
    "\n",
    "    tmp = np.sum(w*x)+b\n",
    "    if tmp <=0:\n",
    "         return 0\n",
    "    else:\n",
    "        return 1\n",
    "      \n",
    "#     イメージはこんなかんじ\n",
    "#     wは重み　シータはバイアス\n",
    "#     wが入力がしょぼいときに強化する、AとBでどちらを優先するかとか\n",
    "# 　　シータは出力する度合いを制御\n",
    "#     w1,w2,theta= 1,1,1.5\n",
    "#     tmp = x1*w1+x2*w2\n",
    "#     if tmp<= theta:\n",
    "#         return 0\n",
    "#     elif tmp > theta:\n",
    "#         return 1\n"
   ]
  },
  {
   "cell_type": "code",
   "execution_count": 44,
   "metadata": {},
   "outputs": [],
   "source": [
    "def NAND(x1,x2):\n",
    "    x=np.array([x1,x2])\n",
    "    w=np.array([-0.5,-0.5])\n",
    "    b=0.7\n",
    "\n",
    "    tmp = np.sum(w*x)+b\n",
    "    if tmp <=0:\n",
    "         return 0\n",
    "    else:\n",
    "        return 1\n",
    "\n",
    "    \n",
    "#     w1,w2,theta= -1,-1,-1.5\n",
    "#     tmp = x1*w1+x2*w2\n",
    "#     if tmp<= theta:\n",
    "#         return 0\n",
    "#     elif tmp > theta:\n",
    "#         return 1\n",
    "\n"
   ]
  },
  {
   "cell_type": "code",
   "execution_count": 43,
   "metadata": {},
   "outputs": [],
   "source": [
    "def OR(x1,x2):\n",
    "    x=np.array([x1,x2])\n",
    "    w=np.array([0.5,0.5])\n",
    "    b=-0.2\n",
    "\n",
    "    tmp = np.sum(w*x)+b\n",
    "    if tmp <=0:\n",
    "         return 0\n",
    "    else:\n",
    "        return 1\n",
    "    \n",
    "#     w1,w2,theta= 1,1,0.5\n",
    "#     tmp = x1*w1+x2*w2\n",
    "#     if tmp<= theta:\n",
    "#         return 0\n",
    "#     elif tmp > theta:\n",
    "#         return 1\n"
   ]
  },
  {
   "cell_type": "code",
   "execution_count": 46,
   "metadata": {},
   "outputs": [],
   "source": [
    "def XOR(x1,x2):\n",
    "    s1 = NAND(x1, x2)\n",
    "    s2 = OR(x1, x2)\n",
    "    y = AND(s1,s2)\n",
    "    return y"
   ]
  },
  {
   "cell_type": "code",
   "execution_count": 50,
   "metadata": {},
   "outputs": [
    {
     "data": {
      "text/plain": [
       "1"
      ]
     },
     "execution_count": 50,
     "metadata": {},
     "output_type": "execute_result"
    }
   ],
   "source": [
    "XOR(1,0)"
   ]
  }
 ],
 "metadata": {
  "kernelspec": {
   "display_name": "Python 3",
   "language": "python",
   "name": "python3"
  },
  "language_info": {
   "codemirror_mode": {
    "name": "ipython",
    "version": 3
   },
   "file_extension": ".py",
   "mimetype": "text/x-python",
   "name": "python",
   "nbconvert_exporter": "python",
   "pygments_lexer": "ipython3",
   "version": "3.8.5"
  }
 },
 "nbformat": 4,
 "nbformat_minor": 4
}
