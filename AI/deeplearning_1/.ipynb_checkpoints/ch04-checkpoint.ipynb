{
 "cells": [
  {
   "cell_type": "code",
   "execution_count": 14,
   "metadata": {},
   "outputs": [],
   "source": [
    "# いろんな関数を登録したクラス\n",
    "import numpy as np\n",
    "import pickle\n",
    "import matplotlib.pylab as plt\n",
    "# datasetフォルダのmnistファイルを開いて　load_ministメソッドをインポート\n",
    "import sys, os\n",
    "sys.path.append(os.pardir)  # パスに親ディレクトリ追加\n",
    "from dataset.mnist import load_mnist\n",
    "sys.path.append(os.pardir)  # 親ディレクトリのファイルをインポートするための設定\n",
    "from dataset.mnist import load_mnist\n",
    "from common.gradient import numerical_gradient\n",
    "from common.functions import *"
   ]
  },
  {
   "cell_type": "code",
   "execution_count": null,
   "metadata": {},
   "outputs": [],
   "source": [
    "# 何が正しいかの指標を決める必要がある\n",
    "# ニュートラルネットでの指標は損失関数で考える\n",
    "# 一般的に２乗和誤差や交差エントロピー誤差を使う\n",
    "# 損失関数は性能がどれだけ「悪いか」を図る\n",
    "# その中で一番ましな（性能の悪さが最小）所→一番いいとこになる"
   ]
  },
  {
   "cell_type": "code",
   "execution_count": 3,
   "metadata": {},
   "outputs": [],
   "source": [
    "# # ２乗和誤差メソッド\n",
    "# def sum_squared_error(y,t):\n",
    "#     return 0.5 * np.sum((y-t)**2)"
   ]
  },
  {
   "cell_type": "code",
   "execution_count": 11,
   "metadata": {},
   "outputs": [],
   "source": [
    "# 交差エントロピー誤差メソッド\n",
    "def cross_entropy_error(y,t):\n",
    "# y=0になったときに無限になるのを防ぐ用\n",
    "    delta = 1e-7\n",
    "    return -np.sum(t * np.log(y + delta))"
   ]
  },
  {
   "cell_type": "code",
   "execution_count": 5,
   "metadata": {},
   "outputs": [
    {
     "data": {
      "text/plain": [
       "0.09750000000000003"
      ]
     },
     "execution_count": 5,
     "metadata": {},
     "output_type": "execute_result"
    }
   ],
   "source": [
    "# 正解を選ぶ\n",
    "# 正解ラベルを1、そのほかを0で→one-hot表現\n",
    "t = [0,0,1,0,0,0,0,0,0,0]\n",
    "# 出てきたパーセンテージ(ちゃんと正解に近い)\n",
    "y = [0.1,0.05,0.6,0.0,0.05,0.1,0.0,0.1,0.0,0.0]\n",
    "\n",
    "sum_squared_error(np.array(y),np.array(t))"
   ]
  },
  {
   "cell_type": "code",
   "execution_count": 7,
   "metadata": {},
   "outputs": [
    {
     "data": {
      "text/plain": [
       "0.5975"
      ]
     },
     "execution_count": 7,
     "metadata": {},
     "output_type": "execute_result"
    }
   ],
   "source": [
    "# 出てきたパーセンテージ(不正解を選んだ)\n",
    "y = [0.1,0.05,0.1,0.0,0.05,0.1,0.0,0.6,0.0,0.0]\n",
    "\n",
    "sum_squared_error(np.array(y),np.array(t))"
   ]
  },
  {
   "cell_type": "code",
   "execution_count": 12,
   "metadata": {},
   "outputs": [
    {
     "data": {
      "text/plain": [
       "0.510825457099338"
      ]
     },
     "execution_count": 12,
     "metadata": {},
     "output_type": "execute_result"
    }
   ],
   "source": [
    "# 正解を選ぶ\n",
    "# 正解ラベルを1、そのほかを0で→one-hot表現\n",
    "t = [0,0,1,0,0,0,0,0,0,0]\n",
    "# 交差エントロピー誤差でone-hotを使うと\n",
    "# 正解のところだけを計算することになる\n",
    "# 出力の結果によって答えが出る\n",
    "\n",
    "# 出てきたパーセンテージ(ちゃんと正解に近い)\n",
    "y = [0.1,0.05,0.6,0.0,0.05,0.1,0.0,0.1,0.0,0.0]\n",
    "\n",
    "cross_entropy_error(np.array(y),np.array(t))"
   ]
  },
  {
   "cell_type": "code",
   "execution_count": 13,
   "metadata": {},
   "outputs": [
    {
     "data": {
      "text/plain": [
       "2.302584092994546"
      ]
     },
     "execution_count": 13,
     "metadata": {},
     "output_type": "execute_result"
    }
   ],
   "source": [
    "# 出てきたパーセンテージ(不正解を選んだ)\n",
    "y = [0.1,0.05,0.1,0.0,0.05,0.1,0.0,0.6,0.0,0.0]\n",
    "\n",
    "cross_entropy_error(np.array(y),np.array(t))"
   ]
  },
  {
   "cell_type": "code",
   "execution_count": null,
   "metadata": {},
   "outputs": [],
   "source": [
    "# ミニバッチ学習\n",
    "# データごとに損失関数を出してその平均をとる（正規化）→それでよさげなやつを探す\n",
    "# 数ある中からランダムに１００枚取得して損失関数を出すこと"
   ]
  },
  {
   "cell_type": "code",
   "execution_count": 56,
   "metadata": {},
   "outputs": [
    {
     "name": "stdout",
     "output_type": "stream",
     "text": [
      "(60000, 784)\n",
      "(10000, 10)\n",
      "[[0. 0. 0. ... 1. 0. 0.]\n",
      " [0. 0. 1. ... 0. 0. 0.]\n",
      " [0. 1. 0. ... 0. 0. 0.]\n",
      " ...\n",
      " [0. 0. 0. ... 0. 0. 0.]\n",
      " [0. 0. 0. ... 0. 0. 0.]\n",
      " [0. 0. 0. ... 0. 0. 0.]]\n"
     ]
    }
   ],
   "source": [
    "# データ画像と正解のセットの入手\n",
    "(x_train,t_train),(x_test,t_test) = load_mnist(one_hot_label=True,normalize=True)\n",
    "\n",
    "print(x_train.shape)\n",
    "print(t_test.shape)\n",
    "print(t_test)"
   ]
  },
  {
   "cell_type": "code",
   "execution_count": 76,
   "metadata": {},
   "outputs": [],
   "source": [
    "# ランダムの手法\n",
    "# データ数\n",
    "train_size = x_train.shape[0]\n",
    "# ランダムに取得する数\n",
    "batch_size = 10\n",
    "# データ数からランダムに添字を決める\n",
    "batch_mask = np.random.choice(train_size,batch_size)\n",
    "# 決めたところの画像、正解を取得\n",
    "x_batch = x_train[batch_mask]\n",
    "t_batch = t_train[batch_mask]"
   ]
  },
  {
   "cell_type": "code",
   "execution_count": 74,
   "metadata": {},
   "outputs": [],
   "source": [
    "# バッチ対応交差エントロピー誤差メソッド(one-hot版)\n",
    "def cross_entropy_error2(y,t):\n",
    "#   データが１次元配列→１つの時\n",
    "    if y.ndim == 1:\n",
    "        t = t.reshape(1,t.size)\n",
    "        y = y.reshape(1,y.size)\n",
    "#   データの縦の数\n",
    "    batch_size = y.shape[0]\n",
    "    \n",
    "    return -np.sum(t * np.log(y + 1e-7)) / batch_size"
   ]
  },
  {
   "cell_type": "code",
   "execution_count": 75,
   "metadata": {},
   "outputs": [],
   "source": [
    "# バッチ対応交差エントロピー誤差メソッド\n",
    "def cross_entropy_error3(y,t):\n",
    "#   データが１次元配列→１つの時\n",
    "    if y.ndim == 1:\n",
    "        t = t.reshape(1,t.size)\n",
    "        y = y.reshape(1,y.size)\n",
    "        \n",
    "#   データの縦の数\n",
    "    batch_size = y.shape[0]\n",
    "#   np.arange(batch_size),tは\n",
    "#   num[np.arange(batch_size)][t] でその行で正解の出力を取り出してる\n",
    "# 　np.arange(batch_size)でbatch_size-1個の数値(配列)を生成してる\n",
    "    return -np.sum(np.log(y[np.arange(batch_size),t] + 1e-7)) / batch_size"
   ]
  },
  {
   "cell_type": "code",
   "execution_count": null,
   "metadata": {},
   "outputs": [],
   "source": [
    "# こう動かすんじゃね？"
   ]
  },
  {
   "cell_type": "code",
   "execution_count": 58,
   "metadata": {},
   "outputs": [],
   "source": [
    "# シグモイド関数　２クラス分類問題で使う\n",
    "def sigmoid(x):\n",
    "    return 1/(1+np.exp(-x))"
   ]
  },
  {
   "cell_type": "code",
   "execution_count": 59,
   "metadata": {},
   "outputs": [],
   "source": [
    "#  ソフトマックス関数・修正版\n",
    "def softmax(a):\n",
    "#     入力の最大値\n",
    "    c = np.max(a)\n",
    "    # 指数関数(オーバーフロー対策)\n",
    "    exp_a=np.exp(a-c)\n",
    "    # 指数関数の和\n",
    "    sum_exp_a = np.sum(exp_a)\n",
    "#   指数関数　/  指数関数の和\n",
    "    y = exp_a / sum_exp_a\n",
    "    \n",
    "    return y"
   ]
  },
  {
   "cell_type": "code",
   "execution_count": 60,
   "metadata": {},
   "outputs": [],
   "source": [
    "# 学習済みの重み、バイアスがはいってるデータsample_weight.pklを読み込み\n",
    "def init_network():\n",
    "    with open(\"sample_weight.pkl\", 'rb') as f:\n",
    "       network = pickle.load(f)\n",
    "    return network"
   ]
  },
  {
   "cell_type": "code",
   "execution_count": 61,
   "metadata": {},
   "outputs": [],
   "source": [
    "#  入力から出力までを一括にする\n",
    "def predict(network, x):\n",
    "    W1, W2, W3 = network['W1'], network['W2'], network['W3']\n",
    "    b1, b2, b3 = network['b1'], network['b2'], network['b3']\n",
    "\n",
    "    a1 = np.dot(x, W1) + b1\n",
    "    z1 = sigmoid(a1)\n",
    "    a2 = np.dot(z1, W2) + b2\n",
    "    z2 = sigmoid(a2)\n",
    "    a3 = np.dot(z2, W3) + b3\n",
    "    y = softmax(a3)\n",
    "\n",
    "    return y"
   ]
  },
  {
   "cell_type": "code",
   "execution_count": 77,
   "metadata": {},
   "outputs": [
    {
     "data": {
      "text/plain": [
       "4.39570518732071"
      ]
     },
     "execution_count": 77,
     "metadata": {},
     "output_type": "execute_result"
    }
   ],
   "source": [
    "y = predict(init_network(),x_batch)\n",
    "# one-hot版\n",
    "cross_entropy_error2(y,t_ba\n",
    "                     \n",
    "                     \n",
    "                     \n",
    "                     tch)"
   ]
  },
  {
   "cell_type": "code",
   "execution_count": null,
   "metadata": {},
   "outputs": [],
   "source": [
    "# 非one-hot"
   ]
  },
  {
   "cell_type": "code",
   "execution_count": 81,
   "metadata": {},
   "outputs": [],
   "source": [
    "# データ画像と正解のセットの入手\n",
    "(x2_train,t2_train),(x2_test,t2_test) = load_mnist(one_hot_label=False,normalize=True)"
   ]
  },
  {
   "cell_type": "code",
   "execution_count": 82,
   "metadata": {},
   "outputs": [],
   "source": [
    "# ランダムの手法\n",
    "# データ数\n",
    "train_size = x2_train.shape[0]\n",
    "# ランダムに取得する数\n",
    "batch_size = 10\n",
    "# データ数からランダムに添字を決める\n",
    "batch_mask = np.random.choice(train_size,batch_size)\n",
    "# 決めたところの画像、正解を取得\n",
    "x2_batch = x2_train[batch_mask]\n",
    "t2_batch = t2_train[batch_mask]"
   ]
  },
  {
   "cell_type": "code",
   "execution_count": 85,
   "metadata": {},
   "outputs": [
    {
     "data": {
      "text/plain": [
       "3.9825286865234375"
      ]
     },
     "execution_count": 85,
     "metadata": {},
     "output_type": "execute_result"
    }
   ],
   "source": [
    "y2 = predict(init_network(),x2_batch)\n",
    "cross_entropy_error3(y2,t2_batch)"
   ]
  },
  {
   "cell_type": "code",
   "execution_count": 17,
   "metadata": {},
   "outputs": [
    {
     "data": {
      "text/plain": [
       "0.0"
      ]
     },
     "execution_count": 17,
     "metadata": {},
     "output_type": "execute_result"
    }
   ],
   "source": [
    "# 数値微分\n",
    "# 差分で求めること\n",
    "# 悪いパターン\n",
    "# 前方差分\n",
    "# 小数点が小さすぎると「丸め誤差」がでて数値が省略される\n",
    "def numerical_diff_bad(f, x):\n",
    "    h = 1e-50 # 0.000…1小数点50以下\n",
    "    return (f(x+h) - f(x)) / h\n",
    "\n",
    "np.float32(1e-50)"
   ]
  },
  {
   "cell_type": "code",
   "execution_count": 18,
   "metadata": {},
   "outputs": [
    {
     "data": {
      "text/plain": [
       "1e-04"
      ]
     },
     "execution_count": 18,
     "metadata": {},
     "output_type": "execute_result"
    }
   ],
   "source": [
    "# 中心差分\n",
    "# 使われるパターン\n",
    "def numerical_diff(f, x):\n",
    "    h = 1e-4 # 0.0001\n",
    "    return (f(x+h) - f(x-h)) / (2*h)\n",
    "\n",
    "np.float32(1e-4)"
   ]
  },
  {
   "cell_type": "code",
   "execution_count": 20,
   "metadata": {},
   "outputs": [],
   "source": [
    "# 接線メソッド\n",
    "def tangent_line(f, x):\n",
    "# 傾きを求めてる\n",
    "    d = numerical_diff(f, x)\n",
    "    print(d)\n",
    "# 切片を求めてる f(x) = dx + b →  b = f(x) - dx\n",
    "    y = f(x) - d*x\n",
    "# tに接線の式を代入してる\n",
    "    return lambda t: d*t + y"
   ]
  },
  {
   "cell_type": "code",
   "execution_count": null,
   "metadata": {},
   "outputs": [],
   "source": [
    "# 数式の展開で微分する\n",
    "# 「解析的～」という"
   ]
  },
  {
   "cell_type": "code",
   "execution_count": 12,
   "metadata": {},
   "outputs": [],
   "source": [
    "# 数値微分の例１\n",
    "def function_1(x):\n",
    "    return 0.01*x**2 + 0.1*x "
   ]
  },
  {
   "cell_type": "code",
   "execution_count": 21,
   "metadata": {},
   "outputs": [
    {
     "name": "stdout",
     "output_type": "stream",
     "text": [
      "0.2999999999986347\n"
     ]
    },
    {
     "data": {
      "image/png": "[encoded data removed]",
      "text/plain": [
       "<Figure size 432x288 with 1 Axes>"
      ]
     },
     "metadata": {
      "needs_background": "light"
     },
     "output_type": "display_data"
    }
   ],
   "source": [
    "x = np.arange(0.0, 20.0, 0.1)\n",
    "y = function_1(x)\n",
    "plt.xlabel(\"x\")\n",
    "plt.ylabel(\"f(x)\")\n",
    "\n",
    "tf = tangent_line(function_1, 10)\n",
    "y2 = tf(x)\n",
    "\n",
    "plt.plot(x, y)\n",
    "plt.plot(x, y2)\n",
    "plt.show()"
   ]
  },
  {
   "cell_type": "code",
   "execution_count": 23,
   "metadata": {},
   "outputs": [],
   "source": [
    "# 偏微分\n",
    "# 一例\n",
    "def function_2(x):\n",
    "    return x[0]**2 + x[1]**2\n",
    "# またはnp.sum(x**2)"
   ]
  },
  {
   "cell_type": "code",
   "execution_count": 25,
   "metadata": {},
   "outputs": [],
   "source": [
    "# 偏微分のメソッド\n",
    "# すべての変数を偏微分をベクトルとしてまとめたものを「勾配」\n",
    "# 勾配を図で示すと各地点において低くなるほうに向く→遠ければ遠いほど矢印も大きくなる\n",
    "# よくない例\n",
    "def numerical_gradient_no_batch(f, x):\n",
    "    h = 1e-4  # 0.0001\n",
    "#  xと同じ形状の配列を生成→全部０\n",
    "    grad = np.zeros_like(x)\n",
    "    \n",
    "    for idx in range(x.size):\n",
    "        tmp_val = x[idx]\n",
    "# 　　　f(x+h)の計算\n",
    "        x[idx] = float(tmp_val) + h\n",
    "        fxh1 = f(x)  # f(x+h)\n",
    "\n",
    "# 　　　f(x-h)の計算\n",
    "        x[idx] = tmp_val - h \n",
    "        fxh2 = f(x)  # f(x-h)\n",
    "\n",
    "# 　　　接点を求めてる\n",
    "        grad[idx] = (fxh1 - fxh2) / (2*h)\n",
    "        x[idx] = tmp_val  # 値を元に戻す\n",
    "        \n",
    "    return grad"
   ]
  },
  {
   "cell_type": "code",
   "execution_count": 28,
   "metadata": {},
   "outputs": [
    {
     "data": {
      "text/plain": [
       "array([6., 0.])"
      ]
     },
     "execution_count": 28,
     "metadata": {},
     "output_type": "execute_result"
    }
   ],
   "source": [
    "# numerical_gradient_no_batch(function_2,np.array([3.0,4.0]))\n",
    "# numerical_gradient_no_batch(function_2,np.array([0.0,2.0]))\n",
    "numerical_gradient_no_batch(function_2,np.array([3.0,0.0]))"
   ]
  },
  {
   "cell_type": "code",
   "execution_count": 33,
   "metadata": {},
   "outputs": [],
   "source": [
    "# 勾配法\n",
    "# 損失関数は複雑で重み・バイアスはパターンが多い\n",
    "# 鞍点：極値ではない点\n",
    "# 最小値：一番小さい数値\n",
    "# 極小値：一番小さくないけど、傾きは０\n",
    "# http://www.thothchildren.com/chapter/5b4084c3103f2f3168708e1f\n",
    "# ヘッセ行列で判定するのが定石？\n",
    "\n",
    "# 勾配出す→その方向に一定値すすむ→繰り返す→ベクトルが減ってくるが定石らしい\n",
    "# 勾配降下・上昇法があるけど関係ない\n",
    "# 一定値：学習率→自分で決める、正しく学習できてるか値を逐次変更するひつようあり"
   ]
  },
  {
   "cell_type": "code",
   "execution_count": 64,
   "metadata": {},
   "outputs": [],
   "source": [
    "# 勾配降下法\n",
    "# f:最適化したい関数\n",
    "# init_x:初期値\n",
    "# lr:learning rate 学習率→ハイパーパラメータ\n",
    "# ハイパーパラメータ：人力でいい感じの数値を見つけるもの\n",
    "# step_num:勾配法の繰り返し数\n",
    "def gradient_descent(f, init_x, lr=0.01, step_num=100):\n",
    "    x = init_x\n",
    "    \n",
    "    for i in range(step_num):\n",
    "\n",
    "        grad = numerical_gradient_no_batch(f, x)\n",
    "        x -= lr * grad\n",
    "\n",
    "    return x"
   ]
  },
  {
   "cell_type": "code",
   "execution_count": 62,
   "metadata": {},
   "outputs": [],
   "source": [
    "# 描画してくれる\n",
    "def gradient_descent_draw(f, init_x, lr=0.01, step_num=100):\n",
    "    x = init_x\n",
    "    x_history = []\n",
    "\n",
    "    for i in range(step_num):\n",
    "        x_history.append( x.copy() )\n",
    "\n",
    "        grad = numerical_gradient_no_batch(f, x)\n",
    "        x -= lr * grad\n",
    "\n",
    "    return x, np.array(x_history)"
   ]
  },
  {
   "cell_type": "code",
   "execution_count": 70,
   "metadata": {},
   "outputs": [
    {
     "data": {
      "image/png": "[encoded data removed]",
      "text/plain": [
       "<Figure size 432x288 with 1 Axes>"
      ]
     },
     "metadata": {
      "needs_background": "light"
     },
     "output_type": "display_data"
    }
   ],
   "source": [
    "# 例:function_2\n",
    "init_x = np.array([-3.0,4.0])\n",
    "lr = 0.01\n",
    "step_num = 100\n",
    "x, x_history = gradient_descent_draw(function_2, init_x, lr=lr, step_num=step_num)\n",
    "\n",
    "plt.plot( [-5, 5], [0,0], '--b')\n",
    "plt.plot( [0,0], [-5, 5], '--b')\n",
    "plt.plot(x_history[:,0], x_history[:,1], 'o')\n",
    "\n",
    "plt.xlim(-3.5, 3.5)\n",
    "plt.ylim(-4.5, 4.5)\n",
    "plt.xlabel(\"X0\")\n",
    "plt.ylabel(\"X1\")\n",
    "plt.show()"
   ]
  },
  {
   "cell_type": "code",
   "execution_count": null,
   "metadata": {},
   "outputs": [],
   "source": [
    "# 重みにも損失関数の勾配が必要\n",
    "# 簡易に勾配を求めるメソッド\n",
    "class simpleNet:\n",
    "# コンストラクタ\n",
    "    def __init__(self):\n",
    "#  ガウス分布に従うランダムな数値で初期化(２*３)の配列：平均0、分散1（標準偏差1）\n",
    "# 重み1個\n",
    "        self.W = np.random.randn(2,3)\n",
    "\n",
    "# 予測メソッド\n",
    "    def predict(self,x):\n",
    "# 積(左*右)\n",
    "        return np.dot(x,self.W)\n",
    "\n",
    "# 損失関数の値を求めるメソッド\n",
    "    def loss(self,x,t):\n",
    "        z = self.predict(x)\n",
    "        y = softmax(z)\n",
    "        loss = cross_entropy_error(y,t)\n",
    "        \n",
    "        return loss"
   ]
  },
  {
   "cell_type": "code",
   "execution_count": 100,
   "metadata": {},
   "outputs": [
    {
     "name": "stdout",
     "output_type": "stream",
     "text": [
      "[[-0.77255574 -1.69785042  0.26353103]\n",
      " [-0.35405155 -0.24486828 -0.82130026]]\n"
     ]
    }
   ],
   "source": [
    "net = simpleNet()\n",
    "# 重みパラメータ\n",
    "print(net.W)"
   ]
  },
  {
   "cell_type": "code",
   "execution_count": 102,
   "metadata": {},
   "outputs": [
    {
     "name": "stdout",
     "output_type": "stream",
     "text": [
      "[-0.78217984 -1.2390917  -0.58105162]\n"
     ]
    },
    {
     "data": {
      "text/plain": [
       "2"
      ]
     },
     "execution_count": 102,
     "metadata": {},
     "output_type": "execute_result"
    }
   ],
   "source": [
    "x = np.array([0.6,0.9])\n",
    "p = net.predict(x)\n",
    "print(p)\n",
    "# 最大値のインデックス\n",
    "np.argmax(p)"
   ]
  },
  {
   "cell_type": "code",
   "execution_count": 103,
   "metadata": {},
   "outputs": [
    {
     "data": {
      "text/plain": [
       "0.8482997844980682"
      ]
     },
     "execution_count": 103,
     "metadata": {},
     "output_type": "execute_result"
    }
   ],
   "source": [
    "# 正解ラベル\n",
    "t = np.array([0,0,1])\n",
    "net.loss(x,t)"
   ]
  },
  {
   "cell_type": "code",
   "execution_count": 105,
   "metadata": {},
   "outputs": [
    {
     "name": "stdout",
     "output_type": "stream",
     "text": [
      "[[ 0.21008268  0.13303195 -0.34311463]\n",
      " [ 0.31512402  0.19954792 -0.51467195]]\n"
     ]
    }
   ],
   "source": [
    "# ダミー用\n",
    "def f(W):\n",
    "    return net.loss(x,t)\n",
    "\n",
    "dW = numerical_gradient(f ,net.W)\n",
    "print(dW)\n",
    "# 損失関数をｈ倍→0.210ｈ増加\n",
    "# 　　　　　　　→0.343ｈ減少\n",
    "# つまり、+0.～は-ｈ倍、-0.～はh倍する\n",
    "# 一番影響力があるのは絶対値で一番大きい数値"
   ]
  },
  {
   "cell_type": "code",
   "execution_count": null,
   "metadata": {},
   "outputs": [],
   "source": [
    "# まとめ\n",
    "# 学習アルゴリズムの実装方法(確率的勾配降下法→SGD)\n",
    "# ①ランダムに訓練データの中から一定数選び推論(ミニバッチ)→損失関数の取得\n",
    "# ②ミニバッチの損失関数を減らすために、重みの勾配をもとめ、損失関数の値を最も減らす方向を算出\n",
    "# ③重みを勾配方向に更新する(学習率)\n",
    "# ④①～③を繰り返す(ステップ数)"
   ]
  },
  {
   "cell_type": "code",
   "execution_count": 2,
   "metadata": {},
   "outputs": [],
   "source": [
    "# ２層ニューラルネットクラス\n",
    "class TwoLayerNet:\n",
    "# 初期化用コンストラクタ（自身、入力層ニューロンの数、隠れ層ニューロンの数、出力層ニューロンの数）\n",
    "    def __init__(self, input_size, hidden_size, output_size, weight_init_std=0.01):\n",
    "#  重みの初期化\n",
    "        self.params = {}\n",
    "# 値\n",
    "        self.params['W1'] = weight_init_std * np.random.randn(input_size, hidden_size)\n",
    "        self.params['b1'] = np.zeros(hidden_size)\n",
    "        self.params['W2'] = weight_init_std * np.random.randn(hidden_size, output_size)\n",
    "        self.params['b2'] = np.zeros(output_size)\n",
    "# 推論メソッド(x:入力データ)\n",
    "    def predict(self, x):\n",
    "        W1, W2 = self.params['W1'], self.params['W2']\n",
    "        b1, b2 = self.params['b1'], self.params['b2']\n",
    "    \n",
    "        a1 = np.dot(x, W1) + b1\n",
    "        z1 = sigmoid(a1)\n",
    "        a2 = np.dot(z1, W2) + b2\n",
    "        y = softmax(a2)\n",
    "        \n",
    "        return y\n",
    "\n",
    "# 認識精度メソッド(x:データ, t:教師データ)\n",
    "    def accuracy(self, x, t):\n",
    "        y = self.predict(x)\n",
    "        y = np.argmax(y, axis=1)\n",
    "        t = np.argmax(t, axis=1)\n",
    "        \n",
    "        accuracy = np.sum(y == t) / float(x.shape[0])\n",
    "        return accuracy\n",
    "    \n",
    "# 損失関数取得メソッド(x:入力データ, t:教師データ)\n",
    "    def loss(self, x, t):\n",
    "        y = self.predict(x)\n",
    "#  交差エントロピー誤差メソッド(ｙ:推論、ｔ:教師)\n",
    "        return cross_entropy_error(y, t)\n",
    "        \n",
    "# 各パラメータの損失関数の勾配取得メソッド(x:データ, t:教師データ)\n",
    "    def numerical_gradient(self, x, t):\n",
    "        loss_W = lambda W: self.loss(x, t)\n",
    "        \n",
    "        grads = {}\n",
    "# 勾配\n",
    "        grads['W1'] = numerical_gradient(loss_W, self.params['W1'])\n",
    "        grads['b1'] = numerical_gradient(loss_W, self.params['b1'])\n",
    "        grads['W2'] = numerical_gradient(loss_W, self.params['W2'])\n",
    "        grads['b2'] = numerical_gradient(loss_W, self.params['b2'])\n",
    "\n",
    "        return grads\n",
    "\n",
    "# 各パラメータ損失関数の勾配取得メソッド高速版(x:データ, t:教師データ)\n",
    "# 誤差逆伝播法\n",
    "    def gradient(self, x, t):\n",
    "        W1, W2 = self.params['W1'], self.params['W2']\n",
    "        b1, b2 = self.params['b1'], self.params['b2']\n",
    "        grads = {}\n",
    "        \n",
    "        batch_num = x.shape[0]\n",
    "        \n",
    "        # forward\n",
    "        a1 = np.dot(x, W1) + b1\n",
    "        z1 = sigmoid(a1)\n",
    "        a2 = np.dot(z1, W2) + b2\n",
    "        y = softmax(a2)\n",
    "        \n",
    "        # backward\n",
    "        dy = (y - t) / batch_num\n",
    "        grads['W2'] = np.dot(z1.T, dy)\n",
    "        grads['b2'] = np.sum(dy, axis=0)\n",
    "        \n",
    "        dz1 = np.dot(dy, W2.T)\n",
    "        da1 = sigmoid_grad(a1) * dz1\n",
    "        grads['W1'] = np.dot(x.T, da1)\n",
    "        grads['b1'] = np.sum(da1, axis=0)\n",
    "\n",
    "        return grads"
   ]
  },
  {
   "cell_type": "code",
   "execution_count": null,
   "metadata": {},
   "outputs": [],
   "source": [
    "# ①の実施\n",
    "# データの読み込み\n",
    "(x_train, t_train), (x_test, t_test) = load_mnist(normalize=True, one_hot_label=True)\n",
    "# 入力画像が28*28、隠れ層は適当、出力層は0～9の10個\n",
    "network = TwoLayerNet(input_size=784, hidden_size=50, output_size=10)\n",
    "\n",
    "# ハイパーパラメータ\n",
    "iters_num = 10000 # 繰り返しの回数を適宜設定する\n",
    "train_size = x_train.shape[0]# 取得したデータの数\n",
    "batch_size = 100 # ミニバッチの値\n",
    "learning_rate = 0.1 # 学習率\n",
    "\n",
    "train_loss_list = [] # 損失関数の配列\n",
    "train_acc_list = [] # 訓練精度の配列\n",
    "test_acc_list = [] # 本番精度の配列\n",
    "# 1エポック当たりの繰り返し\n",
    "# エポック：10000個の訓練データを100個のミニバッチにすると100回確率的勾配降下法をやる→1エポック\n",
    "# それで認証精度を確認する→\n",
    "# 画像の数/ミニバッチの値+\n",
    "iter_per_epoch = max(train_size / batch_size, 1)\n",
    "\n",
    "for i in range(iters_num):\n",
    "#  ミニバッチの数で訓練データの要素をランダムに取得\n",
    "    batch_mask = np.random.choice(train_size, batch_size)\n",
    "    x_batch = x_train[batch_mask] # 訓練用画像取得\n",
    "    t_batch = t_train[batch_mask] # 教師データ取得\n",
    "    \n",
    "# 勾配の計算\n",
    "    grad= network.numerical_gradient(x_batch, t_batch)\n",
    "#     grad = network.gradient(x_batch, t_batch)\n",
    "    \n",
    "# パラメータの更新\n",
    "    for key in ('W1', 'b1', 'W2', 'b2'):\n",
    "        network.params[key] -= learning_rate * grad[key]\n",
    "# 学習経過の記録\n",
    "        loss = network.loss(x_batch, t_batch)\n",
    "        train_loss_list.append(loss)\n",
    "# 1エポックごとに認識精度を計算    \n",
    "        if i % iter_per_epoch == 0:\n",
    "        train_acc = network.accuracy(x_train, t_train)\n",
    "        test_acc = network.accuracy(x_test, t_test)\n",
    "        train_acc_list.append(train_acc)\n",
    "        test_acc_list.append(test_acc)\n",
    "        print(\"train acc, test acc | \" + str(train_acc) + \", \" + str(test_acc))\n",
    "\n",
    "# 経過表示\n",
    "print(f\"[更新数]{i: >4} [損失関数の値]{loss:.4f} \"f\"[訓練データの認識精度]{train_acc:.4f} [テストデータの認識精度]{test_acc:.4f}\")\n",
    "\n",
    "# 損失関数の値の推移を描画\n",
    "x = np.arange(len(train_loss_list))\n",
    "plt.plot(x, train_loss_list, label='loss')\n",
    "plt.xlabel(\"iteration\")\n",
    "plt.ylabel(\"loss\")\n",
    "plt.xlim(left=0)\n",
    "plt.ylim(bottom=0)\n",
    "plt.show()\n",
    "\n",
    "# 訓練データとテストデータの認識精度の推移を描画\n",
    "x2 = np.arange(len(train_acc_list))\n",
    "plt.plot(x2, train_acc_list, label='train acc')\n",
    "plt.plot(x, test_acc_list, label='test acc', linestyle='--')\n",
    "plt.xlabel(\"epochs\")\n",
    "plt.ylabel(\"accuracy\")\n",
    "plt.xlim(left=0)\n",
    "plt.ylim(0, 1.0)\n",
    "plt.legend(loc='lower right')\n",
    "plt.show()"
   ]
  },
  {
   "cell_type": "code",
   "execution_count": null,
   "metadata": {},
   "outputs": [],
   "source": []
  },
  {
   "cell_type": "code",
   "execution_count": null,
   "metadata": {},
   "outputs": [],
   "source": []
  }
 ],
 "metadata": {
  "kernelspec": {
   "display_name": "Python 3",
   "language": "python",
   "name": "python3"
  },
  "language_info": {
   "codemirror_mode": {
    "name": "ipython",
    "version": 3
   },
   "file_extension": ".py",
   "mimetype": "text/x-python",
   "name": "python",
   "nbconvert_exporter": "python",
   "pygments_lexer": "ipython3",
   "version": "3.8.5"
  }
 },
 "nbformat": 4,
 "nbformat_minor": 4
}
